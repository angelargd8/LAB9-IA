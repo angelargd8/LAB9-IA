{
 "cells": [
  {
   "cell_type": "markdown",
   "id": "15ab2f5d",
   "metadata": {},
   "source": [
    "# Laboratorio 9 \n",
    "\n",
    "Francis Aguilar #22243  \n",
    "Angela García #22869  \n",
    "Gerardo Pineda #22808  \n",
    "\n",
    "Enlace del repositorio: https://github.com/angelargd8/LAB9-IA"
   ]
  },
  {
   "cell_type": "markdown",
   "id": "0e43e8e4",
   "metadata": {},
   "source": [
    "# Task 1. Preguntas de Teoría"
   ]
  },
  {
   "cell_type": "markdown",
   "id": "dd05c272",
   "metadata": {},
   "source": [
    "## 1. Diferencias entre modelos de Markov y Hidden Markov Models\n",
    "\n",
    "\n",
    "| Modelos de Markov     | Hidden Markokv Models    |\n",
    "|--------------------|--------------------|\n",
    "| - Todos los estados son completamente observables | - Los estados no son observables, se puede ver una secuencia de señales que dan pistas del estado |\n",
    "| - En la estimación de parametros, las probabilidades de transición pueden ser estimadas por la secuencia de los estados observables| - La estimación involucra el algoritmos como Baum- Welch algorithm que iterativamente ajusta los parametros del modelo para maximizar la probabilidad de la secuencia observada del modelo |\n",
    "| - las predicciones del futuro estado del modelo depende del estado actual, no en la ruta tomada| - las predicciones dependen de los resultados observables, que dan la información acerca de la ruta de los estados escondidos |\n",
    "| - es menos complejo, tiene pocos parametros de probabilidades de transición | - es más complejo, require de transición, emisión, y las probabilidades iniciales del estado |\n",
    "| - Su aplicación puede ser en juegos de mesa, predicción meteorológica y para sistemas transparentes| - es ideal para procesos en donde los estados se infieren a través de sus resultados, como reconocimiento de voz, o análisis de secuencia génetica|\n"
   ]
  },
  {
   "cell_type": "markdown",
   "id": "89dc4704",
   "metadata": {},
   "source": [
    "## 2. Qué son los factorial HMM (Hidden Markov Models)\n",
    "- Los factorial HMM son una extensión de los modelos de HMM, que están diseñados para abordar problemas más complejos al descomoponer el estado oculto en múltiples factores independientes. Y los factores se combinan para generar las observacones. Entonces un FHMM se divide en varios sub-estados o factores independientes cada uno con su propio proceso de Markov. Estos son utiles para modelar sistemas en donde las observacioens dependen de múltiples causas independientes, como el reconocimiento de actividad humana, ya que pueden representar diferentes acciones como es caminar, hablar y otros. Que interactuan para generar una señal observable.  Y estos tienen una mayor capacidad para capturar estructuras complejas y relaciones en los datos. Sin embargo, hay que tomar en cuenta que por los múltiples factores y su interacción, el entrenamiento e inferencia son más costosos computacionalmente hablando.  \n",
    "\n",
    "## 3. El algoritmo Foward Backward para HMM\n",
    "- El algoritmo Foward Backward para HMM es un método importante para los modelos de HMM, ya que este permite calcular de una manera eficiente las probabilidades de los estados ocultos dadas las observaciones y en este se usan tareas de inferencia para hacer una decodificación suave para determinar la probabilidad de que el modelo se encuentre en un estado específico en un momento dado. \n",
    "\n",
    "## 4. ¿Por qué es necesario el paso de Backward? en el algoritmo backward. Con una caso de ejemplo.\n",
    "-  Es necesario el paso de Backward porque permite calcular las probabilidades de los estados ocultos considerando toda la secuencia de observaciones y no solo las observaviones anteriores al momento actual. Un caso de ejemplo puede ser el jugar AmongUs, porque estamos buscando al impostor y no solo nos podemos basar en la última acción sospechosa del jugador que estamos acusando que es el impostor. Entonces nos basamos en quien estaba por el lugar que mataron al otro jugador y las acciones que este realizo anteriormente para poder votar. \n"
   ]
  }
 ],
 "metadata": {
  "language_info": {
   "name": "python"
  }
 },
 "nbformat": 4,
 "nbformat_minor": 5
}
